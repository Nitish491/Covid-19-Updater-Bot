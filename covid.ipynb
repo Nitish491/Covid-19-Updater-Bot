{
 "cells": [
  {
   "cell_type": "code",
   "execution_count": null,
   "metadata": {},
   "outputs": [],
   "source": [
    "import requests\n",
    "from win10toast import ToastNotifier\n",
    "import json\n",
    "import time\n",
    "def update():\n",
    "    r=requests.get(\"http://coronavirus-19-api.herokuapp.com/all\")\n",
    "    data=r.json()\n",
    "    text=f'Confirmed Cases:{data[\"cases\"]}\\nDeaths:{data[\"deaths\"]}\\nRecovered:{data[\"recovered\"]}\\nSTAY SAFE !'\n",
    "    while True:\n",
    "        toast= ToastNotifier()\n",
    "        toast.show_toast(\"COVID-19 Updates\",text,duration=20)\n",
    "        time.sleep(60)\n",
    "\n",
    "update()"
   ]
  },
  {
   "cell_type": "code",
   "execution_count": null,
   "metadata": {},
   "outputs": [],
   "source": []
  }
 ],
 "metadata": {
  "kernelspec": {
   "display_name": "Python 3",
   "language": "python",
   "name": "python3"
  },
  "language_info": {
   "codemirror_mode": {
    "name": "ipython",
    "version": 3
   },
   "file_extension": ".py",
   "mimetype": "text/x-python",
   "name": "python",
   "nbconvert_exporter": "python",
   "pygments_lexer": "ipython3",
   "version": "3.7.1"
  }
 },
 "nbformat": 4,
 "nbformat_minor": 2
}
